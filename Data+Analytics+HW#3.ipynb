{
 "cells": [
  {
   "cell_type": "code",
   "execution_count": 1,
   "metadata": {
    "collapsed": false
   },
   "outputs": [
    {
     "name": "stdout",
     "output_type": "stream",
     "text": [
      "Populating the interactive namespace from numpy and matplotlib\n"
     ]
    }
   ],
   "source": [
    "from pandas import Series, DataFrame\n",
    "import pandas as pd\n",
    "%pylab inline"
   ]
  },
  {
   "cell_type": "code",
   "execution_count": 3,
   "metadata": {
    "collapsed": true
   },
   "outputs": [],
   "source": [
    "#Q1\n",
    "gold_colnames=['url', 'category']\n",
    "df_gold=pd.read_csv('C:/Users/shane/OneDrive/Documents/Data Analytics Programming Summer 2019/Homework/HW3/gold.txt',sep='\\t', dtype=unicode,names=gold_colnames,header=None)\n",
    "\n",
    "labels_colnames=['turk','url', 'category']\n",
    "df_labels=pd.read_csv('C:/Users/shane/OneDrive/Documents/Data Analytics Programming Summer 2019/Homework/HW3/labels.txt', sep=\"\\t\", dtype=unicode,names=labels_colnames,header=None)"
   ]
  },
  {
   "cell_type": "code",
   "execution_count": 12,
   "metadata": {
    "collapsed": false
   },
   "outputs": [
    {
     "data": {
      "text/html": [
       "<div>\n",
       "<style>\n",
       "    .dataframe thead tr:only-child th {\n",
       "        text-align: right;\n",
       "    }\n",
       "\n",
       "    .dataframe thead th {\n",
       "        text-align: left;\n",
       "    }\n",
       "\n",
       "    .dataframe tbody tr th {\n",
       "        vertical-align: top;\n",
       "    }\n",
       "</style>\n",
       "<table border=\"1\" class=\"dataframe\">\n",
       "  <thead>\n",
       "    <tr style=\"text-align: right;\">\n",
       "      <th></th>\n",
       "      <th>turk</th>\n",
       "      <th>url</th>\n",
       "      <th>category</th>\n",
       "    </tr>\n",
       "  </thead>\n",
       "  <tbody>\n",
       "    <tr>\n",
       "      <th>0</th>\n",
       "      <td>A1OT3A29R9N1DG</td>\n",
       "      <td>http://000.cc</td>\n",
       "      <td>P</td>\n",
       "    </tr>\n",
       "    <tr>\n",
       "      <th>1</th>\n",
       "      <td>A1PXXEOGQ76RNJ</td>\n",
       "      <td>http://000.cc</td>\n",
       "      <td>G</td>\n",
       "    </tr>\n",
       "    <tr>\n",
       "      <th>2</th>\n",
       "      <td>A1PXXEOGQ76RNJ</td>\n",
       "      <td>http://000.cc</td>\n",
       "      <td>G</td>\n",
       "    </tr>\n",
       "    <tr>\n",
       "      <th>3</th>\n",
       "      <td>A21US576U8SCO4</td>\n",
       "      <td>http://000.cc</td>\n",
       "      <td>G</td>\n",
       "    </tr>\n",
       "    <tr>\n",
       "      <th>4</th>\n",
       "      <td>A2LGX47NN7C5D3</td>\n",
       "      <td>http://000.cc</td>\n",
       "      <td>G</td>\n",
       "    </tr>\n",
       "    <tr>\n",
       "      <th>5</th>\n",
       "      <td>A2OVKTB7VNY8EW</td>\n",
       "      <td>http://000.cc</td>\n",
       "      <td>G</td>\n",
       "    </tr>\n",
       "    <tr>\n",
       "      <th>6</th>\n",
       "      <td>A31Z3E5SLATLML</td>\n",
       "      <td>http://000.cc</td>\n",
       "      <td>P</td>\n",
       "    </tr>\n",
       "    <tr>\n",
       "      <th>7</th>\n",
       "      <td>AAVCPZ8WTCFVK</td>\n",
       "      <td>http://000.cc</td>\n",
       "      <td>G</td>\n",
       "    </tr>\n",
       "    <tr>\n",
       "      <th>8</th>\n",
       "      <td>AHY98D5P05XIV</td>\n",
       "      <td>http://000.cc</td>\n",
       "      <td>G</td>\n",
       "    </tr>\n",
       "    <tr>\n",
       "      <th>9</th>\n",
       "      <td>APTFS1S88K5VC</td>\n",
       "      <td>http://000.cc</td>\n",
       "      <td>G</td>\n",
       "    </tr>\n",
       "  </tbody>\n",
       "</table>\n",
       "</div>"
      ],
      "text/plain": [
       "             turk            url category\n",
       "0  A1OT3A29R9N1DG  http://000.cc        P\n",
       "1  A1PXXEOGQ76RNJ  http://000.cc        G\n",
       "2  A1PXXEOGQ76RNJ  http://000.cc        G\n",
       "3  A21US576U8SCO4  http://000.cc        G\n",
       "4  A2LGX47NN7C5D3  http://000.cc        G\n",
       "5  A2OVKTB7VNY8EW  http://000.cc        G\n",
       "6  A31Z3E5SLATLML  http://000.cc        P\n",
       "7   AAVCPZ8WTCFVK  http://000.cc        G\n",
       "8   AHY98D5P05XIV  http://000.cc        G\n",
       "9   APTFS1S88K5VC  http://000.cc        G"
      ]
     },
     "execution_count": 12,
     "metadata": {},
     "output_type": "execute_result"
    }
   ],
   "source": [
    "#Q2\n",
    "labels_on_gold=df_gold.merge(df_labels,left_on='url', right_on='url', suffixes=['_gold', '_labels'])\n",
    "labels_unknown=df_labels[~df_labels['url'].isin(df_gold['url'])]\n",
    "\n",
    "labels_on_gold[:10]\n",
    "labels_unknown [:10]"
   ]
  },
  {
   "cell_type": "code",
   "execution_count": 21,
   "metadata": {
    "collapsed": false
   },
   "outputs": [
    {
     "name": "stdout",
     "output_type": "stream",
     "text": [
      "               correct rating               \n",
      "                        count  sum    ratios\n",
      "turk                                        \n",
      "A112DVP1KG4QZU              1    1  1.000000\n",
      "A1253FXHCZ9CWM             29   15  0.517241\n",
      "A12CY1Q7XKJJDE              1    1  1.000000\n",
      "A12RE8G66WTO8B             20   15  0.750000\n",
      "A12Y1GTGIQDGRA              3    1  0.333333\n",
      "A13CEW9JGDWGX1              1    1  1.000000\n",
      "A13OE9GBRJ0S2U              4    3  0.750000\n",
      "A14IQ4GLNWNPOJ              1    1  1.000000\n",
      "A153PKAL7OAY36            148  107  0.722973\n",
      "A1554ZM0CLKSG5              1    1  1.000000\n",
      "A16AZHD3CCD77Q              1    1  1.000000\n",
      "A17H2HKAZ7KJMQ              2    1  0.500000\n",
      "A17OE8HU0QCX21              8    7  0.875000\n",
      "A18HIFA78GUAG9             13    7  0.538462\n",
      "A18OUQ869740XV              1    1  1.000000\n",
      "A19KO2JQ36WON3              4    1  0.250000\n",
      "A19N7GVG3V1FZO              2    1  0.500000\n",
      "A19Y7K5UEBNZA7              1    0  0.000000\n",
      "A1AI3MUH2BW1DN              1    0  0.000000\n",
      "A1C8ZHG3K8KD5W              1    1  1.000000\n",
      "A1D0ITFKRWUYKZ              1    0  0.000000\n",
      "A1D4I1QYL9713I              1    0  0.000000\n",
      "A1DCIXV1JC91MY             22   13  0.590909\n",
      "A1F4I7T4UBRV90              1    0  0.000000\n",
      "A1FV9SAPL5C6KY              1    1  1.000000\n",
      "A1H59ZEBB6IS5F              3    2  0.666667\n",
      "A1HIXWH4OXT8S4             40   33  0.825000\n",
      "A1HSF9XPG1LHMX              1    1  1.000000\n",
      "A1IB9WML70CU89             12   10  0.833333\n",
      "A1IPNI2RIHO465              1    1  1.000000\n",
      "...                       ...  ...       ...\n",
      "AOUMYCLO4I993               8    7  0.875000\n",
      "APE3O5IGDCSX9               1    0  0.000000\n",
      "APF7EWGJUB5LT               3    3  1.000000\n",
      "APFC5FODWQRPI               1    1  1.000000\n",
      "APH5ON5IWQ0OH               2    0  0.000000\n",
      "APTFS1S88K5VC               4    2  0.500000\n",
      "APYV9Y0DFZFVP              71   53  0.746479\n",
      "AQLJEOT16YQWT               3    1  0.333333\n",
      "AQRPHU8V49305               2    2  1.000000\n",
      "AR7NQ4SR4MHAL               3    1  0.333333\n",
      "ARQCISK0K4ZGA              11    6  0.545455\n",
      "AS0SX40MKV77T               1    0  0.000000\n",
      "AS51L372B5DDV              22   13  0.590909\n",
      "AT4MM88EMZW7K               1    0  0.000000\n",
      "ATAMRO447HWJQ              30   17  0.566667\n",
      "ATFH1OABZJL68              10    9  0.900000\n",
      "ATNG08O36ROEE               3    1  0.333333\n",
      "ATVALOQVDCMZW             103   88  0.854369\n",
      "AUJ5WUN40KW59               3    2  0.666667\n",
      "AV30XWLULCP43              13    8  0.615385\n",
      "AVWJPWUEE3U4Q              36   27  0.750000\n",
      "AXL3D7YSSF19N               1    0  0.000000\n",
      "AXYV1588LSSBG               3    2  0.666667\n",
      "AY56VAS30RO23               3    2  0.666667\n",
      "AYUOM6WFSVC1C               2    2  1.000000\n",
      "AYWOBMTEGFVVI               1    0  0.000000\n",
      "AZ1S5BIG5R6P6              35   25  0.714286\n",
      "AZSDW7JJL5VA7             100   68  0.680000\n",
      "AZVB3RZW0OR1H               3    2  0.666667\n",
      "amurray                    15   14  0.933333\n",
      "\n",
      "[269 rows x 3 columns]\n"
     ]
    }
   ],
   "source": [
    "#Q3\n",
    "#checks if the ratings match and returns T/F\n",
    "labels_on_gold['correct rating']=labels_on_gold['category_gold']==labels_on_gold['category_labels']\n",
    "#if rating is correct then replace with 1\n",
    "labels_on_gold['correct rating']=labels_on_gold['correct rating'].replace([False, True], [0, 1])\n",
    "#gives the ratio of correctness for each turk\n",
    "def ratios(t):\n",
    "    return t.sum() * 1.0 / t.count()\n",
    "rater_goodness=labels_on_gold.groupby('turk')[['correct rating']].agg(['count','sum', ratios])\n",
    "print rater_goodness"
   ]
  },
  {
   "cell_type": "code",
   "execution_count": 30,
   "metadata": {
    "collapsed": false
   },
   "outputs": [
    {
     "name": "stdout",
     "output_type": "stream",
     "text": [
      "               correct rating                            \n",
      "                        count  sum    ratios         odds\n",
      "turk                                                     \n",
      "A112DVP1KG4QZU              1    1  1.000000  1000.000000\n",
      "A1253FXHCZ9CWM             29   15  0.517241     1.069214\n",
      "A12CY1Q7XKJJDE              1    1  1.000000  1000.000000\n",
      "A12RE8G66WTO8B             20   15  0.750000     2.988048\n",
      "A12Y1GTGIQDGRA              3    1  0.333333     0.499251\n",
      "A13CEW9JGDWGX1              1    1  1.000000  1000.000000\n",
      "A13OE9GBRJ0S2U              4    3  0.750000     2.988048\n",
      "A14IQ4GLNWNPOJ              1    1  1.000000  1000.000000\n",
      "A153PKAL7OAY36            148  107  0.722973     2.600369\n",
      "A1554ZM0CLKSG5              1    1  1.000000  1000.000000\n",
      "A16AZHD3CCD77Q              1    1  1.000000  1000.000000\n",
      "A17H2HKAZ7KJMQ              2    1  0.500000     0.998004\n",
      "A17OE8HU0QCX21              8    7  0.875000     6.944444\n",
      "A18HIFA78GUAG9             13    7  0.538462     1.164144\n",
      "A18OUQ869740XV              1    1  1.000000  1000.000000\n",
      "A19KO2JQ36WON3              4    1  0.250000     0.332889\n",
      "A19N7GVG3V1FZO              2    1  0.500000     0.998004\n",
      "A19Y7K5UEBNZA7              1    0  0.000000     0.000000\n",
      "A1AI3MUH2BW1DN              1    0  0.000000     0.000000\n",
      "A1C8ZHG3K8KD5W              1    1  1.000000  1000.000000\n",
      "A1D0ITFKRWUYKZ              1    0  0.000000     0.000000\n",
      "A1D4I1QYL9713I              1    0  0.000000     0.000000\n",
      "A1DCIXV1JC91MY             22   13  0.590909     1.440922\n",
      "A1F4I7T4UBRV90              1    0  0.000000     0.000000\n",
      "A1FV9SAPL5C6KY              1    1  1.000000  1000.000000\n",
      "A1H59ZEBB6IS5F              3    2  0.666667     1.994018\n",
      "A1HIXWH4OXT8S4             40   33  0.825000     4.687500\n",
      "A1HSF9XPG1LHMX              1    1  1.000000  1000.000000\n",
      "A1IB9WML70CU89             12   10  0.833333     4.970179\n",
      "A1IPNI2RIHO465              1    1  1.000000  1000.000000\n",
      "...                       ...  ...       ...          ...\n",
      "AOUMYCLO4I993               8    7  0.875000     6.944444\n",
      "APE3O5IGDCSX9               1    0  0.000000     0.000000\n",
      "APF7EWGJUB5LT               3    3  1.000000  1000.000000\n",
      "APFC5FODWQRPI               1    1  1.000000  1000.000000\n",
      "APH5ON5IWQ0OH               2    0  0.000000     0.000000\n",
      "APTFS1S88K5VC               4    2  0.500000     0.998004\n",
      "APYV9Y0DFZFVP              71   53  0.746479     2.932876\n",
      "AQLJEOT16YQWT               3    1  0.333333     0.499251\n",
      "AQRPHU8V49305               2    2  1.000000  1000.000000\n",
      "AR7NQ4SR4MHAL               3    1  0.333333     0.499251\n",
      "ARQCISK0K4ZGA              11    6  0.545455     1.197366\n",
      "AS0SX40MKV77T               1    0  0.000000     0.000000\n",
      "AS51L372B5DDV              22   13  0.590909     1.440922\n",
      "AT4MM88EMZW7K               1    0  0.000000     0.000000\n",
      "ATAMRO447HWJQ              30   17  0.566667     1.304682\n",
      "ATFH1OABZJL68              10    9  0.900000     8.910891\n",
      "ATNG08O36ROEE               3    1  0.333333     0.499251\n",
      "ATVALOQVDCMZW             103   88  0.854369     5.826657\n",
      "AUJ5WUN40KW59               3    2  0.666667     1.994018\n",
      "AV30XWLULCP43              13    8  0.615385     1.595851\n",
      "AVWJPWUEE3U4Q              36   27  0.750000     2.988048\n",
      "AXL3D7YSSF19N               1    0  0.000000     0.000000\n",
      "AXYV1588LSSBG               3    2  0.666667     1.994018\n",
      "AY56VAS30RO23               3    2  0.666667     1.994018\n",
      "AYUOM6WFSVC1C               2    2  1.000000  1000.000000\n",
      "AYWOBMTEGFVVI               1    0  0.000000     0.000000\n",
      "AZ1S5BIG5R6P6              35   25  0.714286     2.491281\n",
      "AZSDW7JJL5VA7             100   68  0.680000     2.118380\n",
      "AZVB3RZW0OR1H               3    2  0.666667     1.994018\n",
      "amurray                    15   14  0.933333    13.793103\n",
      "\n",
      "[269 rows x 4 columns]\n"
     ]
    }
   ],
   "source": [
    "#Q4\n",
    "def odds(t):\n",
    "    return (t.sum() * 1.0 / t.count())/(1.001-t.sum() * 1.0 / t.count())\n",
    "rater_odds=labels_on_gold.groupby('turk')[['correct rating']].agg(['count','sum', ratios, odds])\n",
    "print rater_odds"
   ]
  },
  {
   "cell_type": "code",
   "execution_count": 39,
   "metadata": {
    "collapsed": false
   },
   "outputs": [
    {
     "data": {
      "text/html": [
       "<div>\n",
       "<style>\n",
       "    .dataframe thead tr:only-child th {\n",
       "        text-align: right;\n",
       "    }\n",
       "\n",
       "    .dataframe thead th {\n",
       "        text-align: left;\n",
       "    }\n",
       "\n",
       "    .dataframe tbody tr th {\n",
       "        vertical-align: top;\n",
       "    }\n",
       "</style>\n",
       "<table border=\"1\" class=\"dataframe\">\n",
       "  <thead>\n",
       "    <tr style=\"text-align: right;\">\n",
       "      <th></th>\n",
       "      <th>count</th>\n",
       "      <th>sum</th>\n",
       "      <th>ratios</th>\n",
       "      <th>odds</th>\n",
       "    </tr>\n",
       "    <tr>\n",
       "      <th>turk</th>\n",
       "      <th></th>\n",
       "      <th></th>\n",
       "      <th></th>\n",
       "      <th></th>\n",
       "    </tr>\n",
       "  </thead>\n",
       "  <tbody>\n",
       "    <tr>\n",
       "      <th>A2U0R4X38GUKZE</th>\n",
       "      <td>20</td>\n",
       "      <td>19</td>\n",
       "      <td>0.950000</td>\n",
       "      <td>18.627451</td>\n",
       "    </tr>\n",
       "    <tr>\n",
       "      <th>A22C0PJUBFJTI0</th>\n",
       "      <td>36</td>\n",
       "      <td>33</td>\n",
       "      <td>0.916667</td>\n",
       "      <td>10.869565</td>\n",
       "    </tr>\n",
       "    <tr>\n",
       "      <th>A23YQUBXZPKILZ</th>\n",
       "      <td>24</td>\n",
       "      <td>21</td>\n",
       "      <td>0.875000</td>\n",
       "      <td>6.944444</td>\n",
       "    </tr>\n",
       "    <tr>\n",
       "      <th>ATVALOQVDCMZW</th>\n",
       "      <td>103</td>\n",
       "      <td>88</td>\n",
       "      <td>0.854369</td>\n",
       "      <td>5.826657</td>\n",
       "    </tr>\n",
       "    <tr>\n",
       "      <th>A1HIXWH4OXT8S4</th>\n",
       "      <td>40</td>\n",
       "      <td>33</td>\n",
       "      <td>0.825000</td>\n",
       "      <td>4.687500</td>\n",
       "    </tr>\n",
       "    <tr>\n",
       "      <th>A3220HG1O83HQ4</th>\n",
       "      <td>22</td>\n",
       "      <td>18</td>\n",
       "      <td>0.818182</td>\n",
       "      <td>4.475385</td>\n",
       "    </tr>\n",
       "    <tr>\n",
       "      <th>A32W20KGQXS0LL</th>\n",
       "      <td>25</td>\n",
       "      <td>20</td>\n",
       "      <td>0.800000</td>\n",
       "      <td>3.980100</td>\n",
       "    </tr>\n",
       "    <tr>\n",
       "      <th>A20PWAB7G3HDHU</th>\n",
       "      <td>20</td>\n",
       "      <td>16</td>\n",
       "      <td>0.800000</td>\n",
       "      <td>3.980100</td>\n",
       "    </tr>\n",
       "    <tr>\n",
       "      <th>AJSJVK40F5HM6</th>\n",
       "      <td>28</td>\n",
       "      <td>22</td>\n",
       "      <td>0.785714</td>\n",
       "      <td>3.649635</td>\n",
       "    </tr>\n",
       "    <tr>\n",
       "      <th>A31OCN4MNHUQ6W</th>\n",
       "      <td>184</td>\n",
       "      <td>143</td>\n",
       "      <td>0.777174</td>\n",
       "      <td>3.472222</td>\n",
       "    </tr>\n",
       "  </tbody>\n",
       "</table>\n",
       "</div>"
      ],
      "text/plain": [
       "                count  sum    ratios       odds\n",
       "turk                                           \n",
       "A2U0R4X38GUKZE     20   19  0.950000  18.627451\n",
       "A22C0PJUBFJTI0     36   33  0.916667  10.869565\n",
       "A23YQUBXZPKILZ     24   21  0.875000   6.944444\n",
       "ATVALOQVDCMZW     103   88  0.854369   5.826657\n",
       "A1HIXWH4OXT8S4     40   33  0.825000   4.687500\n",
       "A3220HG1O83HQ4     22   18  0.818182   4.475385\n",
       "A32W20KGQXS0LL     25   20  0.800000   3.980100\n",
       "A20PWAB7G3HDHU     20   16  0.800000   3.980100\n",
       "AJSJVK40F5HM6      28   22  0.785714   3.649635\n",
       "A31OCN4MNHUQ6W    184  143  0.777174   3.472222"
      ]
     },
     "execution_count": 39,
     "metadata": {},
     "output_type": "execute_result"
    }
   ],
   "source": [
    "#Q5\n",
    "rater_odds1=labels_on_gold.groupby('turk')['correct rating'].agg(['count','sum', ratios, odds])\n",
    "rater_odds1[rater_odds1['count']>=20].sort_values(by='ratios', ascending=False)[:10]\n"
   ]
  },
  {
   "cell_type": "code",
   "execution_count": 43,
   "metadata": {
    "collapsed": false
   },
   "outputs": [
    {
     "data": {
      "text/plain": [
       "<matplotlib.text.Text at 0xd0ba160>"
      ]
     },
     "execution_count": 43,
     "metadata": {},
     "output_type": "execute_result"
    },
    {
     "data": {
      "image/png": "[encoded data removed]",
      "text/plain": [
       "<matplotlib.figure.Figure at 0xcf62be0>"
      ]
     },
     "metadata": {},
     "output_type": "display_data"
    }
   ],
   "source": [
    "#Q6 \n",
    "plot(rater_odds1['count'], rater_odds1['ratios'], marker='o', color='blue', linestyle='None')\n",
    "xlabel('# of Ratings')\n",
    "ylabel('Accuracy')\n",
    "title('# of Ratings vs Accuracy')\n",
    "\n",
    "#No there is no relationship between the # of ratings and the accuracy of the turk"
   ]
  },
  {
   "cell_type": "code",
   "execution_count": null,
   "metadata": {
    "collapsed": true
   },
   "outputs": [],
   "source": [
    "#Q7\n"
   ]
  },
  {
   "cell_type": "code",
   "execution_count": null,
   "metadata": {
    "collapsed": true
   },
   "outputs": [],
   "source": []
  },
  {
   "cell_type": "code",
   "execution_count": null,
   "metadata": {
    "collapsed": true
   },
   "outputs": [],
   "source": []
  },
  {
   "cell_type": "code",
   "execution_count": null,
   "metadata": {
    "collapsed": true
   },
   "outputs": [],
   "source": []
  }
 ],
 "metadata": {
  "kernelspec": {
   "display_name": "Python 2",
   "language": "python",
   "name": "python2"
  },
  "language_info": {
   "codemirror_mode": {
    "name": "ipython",
    "version": 2
   },
   "file_extension": ".py",
   "mimetype": "text/x-python",
   "name": "python",
   "nbconvert_exporter": "python",
   "pygments_lexer": "ipython2",
   "version": "2.7.13"
  }
 },
 "nbformat": 4,
 "nbformat_minor": 2
}
